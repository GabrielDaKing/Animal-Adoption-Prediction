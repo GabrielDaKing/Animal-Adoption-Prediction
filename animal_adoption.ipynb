{
 "cells": [
  {
   "cell_type": "code",
   "execution_count": 314,
   "metadata": {},
   "outputs": [],
   "source": [
    "import pandas as pd\n",
    "from sklearn.linear_model import LogisticRegression\n",
    "from sklearn.preprocessing import LabelEncoder\n",
    "from sklearn.model_selection import train_test_split\n",
    "from sklearn.ensemble import RandomForestClassifier\n",
    "from sklearn.tree import DecisionTreeClassifier\n",
    "from sklearn.svm import SVC"
   ]
  },
  {
   "cell_type": "code",
   "execution_count": 298,
   "metadata": {},
   "outputs": [],
   "source": [
    "df = pd.read_csv('train.csv')\n"
   ]
  },
  {
   "cell_type": "code",
   "execution_count": 299,
   "metadata": {},
   "outputs": [
    {
     "data": {
      "text/plain": [
       "array(['Return to Owner', 'Missing', 'Transfer', 'Adoption', 'Euthanasia',\n",
       "       'Rto-Adopt', 'Relocate', 'Died', 'Disposal'], dtype=object)"
      ]
     },
     "execution_count": 299,
     "metadata": {},
     "output_type": "execute_result"
    }
   ],
   "source": [
    "df.outcome_type.unique()"
   ]
  },
  {
   "cell_type": "code",
   "execution_count": 300,
   "metadata": {},
   "outputs": [
    {
     "data": {
      "text/html": [
       "<div>\n",
       "<style scoped>\n",
       "    .dataframe tbody tr th:only-of-type {\n",
       "        vertical-align: middle;\n",
       "    }\n",
       "\n",
       "    .dataframe tbody tr th {\n",
       "        vertical-align: top;\n",
       "    }\n",
       "\n",
       "    .dataframe thead th {\n",
       "        text-align: right;\n",
       "    }\n",
       "</style>\n",
       "<table border=\"1\" class=\"dataframe\">\n",
       "  <thead>\n",
       "    <tr style=\"text-align: right;\">\n",
       "      <th></th>\n",
       "      <th>animal_id_outcome</th>\n",
       "      <th>dob_year</th>\n",
       "      <th>dob_month</th>\n",
       "      <th>age_upon_intake</th>\n",
       "      <th>animal_type</th>\n",
       "      <th>breed</th>\n",
       "      <th>color</th>\n",
       "      <th>intake_condition</th>\n",
       "      <th>intake_type</th>\n",
       "      <th>sex_upon_intake</th>\n",
       "      <th>...</th>\n",
       "      <th>age_upon_outcome_(years)</th>\n",
       "      <th>age_upon_outcome_age_group</th>\n",
       "      <th>outcome_datetime</th>\n",
       "      <th>outcome_month</th>\n",
       "      <th>outcome_year</th>\n",
       "      <th>outcome_monthyear</th>\n",
       "      <th>outcome_weekday</th>\n",
       "      <th>outcome_hour</th>\n",
       "      <th>outcome_number</th>\n",
       "      <th>outcome_type</th>\n",
       "    </tr>\n",
       "  </thead>\n",
       "  <tbody>\n",
       "    <tr>\n",
       "      <th>0</th>\n",
       "      <td>A006100</td>\n",
       "      <td>2007</td>\n",
       "      <td>7</td>\n",
       "      <td>10 years</td>\n",
       "      <td>Dog</td>\n",
       "      <td>Spinone Italiano Mix</td>\n",
       "      <td>Yellow/White</td>\n",
       "      <td>Normal</td>\n",
       "      <td>Stray</td>\n",
       "      <td>Neutered Male</td>\n",
       "      <td>...</td>\n",
       "      <td>10.0</td>\n",
       "      <td>(7.5, 10.0]</td>\n",
       "      <td>2017-12-07 14:07:00</td>\n",
       "      <td>12</td>\n",
       "      <td>2017</td>\n",
       "      <td>2017-12</td>\n",
       "      <td>Thursday</td>\n",
       "      <td>0</td>\n",
       "      <td>1.0</td>\n",
       "      <td>Return to Owner</td>\n",
       "    </tr>\n",
       "    <tr>\n",
       "      <th>1</th>\n",
       "      <td>A006100</td>\n",
       "      <td>2007</td>\n",
       "      <td>7</td>\n",
       "      <td>7 years</td>\n",
       "      <td>Dog</td>\n",
       "      <td>Spinone Italiano Mix</td>\n",
       "      <td>Yellow/White</td>\n",
       "      <td>Normal</td>\n",
       "      <td>Public Assist</td>\n",
       "      <td>Neutered Male</td>\n",
       "      <td>...</td>\n",
       "      <td>7.0</td>\n",
       "      <td>(5.0, 7.5]</td>\n",
       "      <td>2014-12-20 16:35:00</td>\n",
       "      <td>12</td>\n",
       "      <td>2014</td>\n",
       "      <td>2014-12</td>\n",
       "      <td>Saturday</td>\n",
       "      <td>16</td>\n",
       "      <td>2.0</td>\n",
       "      <td>Return to Owner</td>\n",
       "    </tr>\n",
       "    <tr>\n",
       "      <th>2</th>\n",
       "      <td>A006100</td>\n",
       "      <td>2007</td>\n",
       "      <td>7</td>\n",
       "      <td>6 years</td>\n",
       "      <td>Dog</td>\n",
       "      <td>Spinone Italiano Mix</td>\n",
       "      <td>Yellow/White</td>\n",
       "      <td>Normal</td>\n",
       "      <td>Public Assist</td>\n",
       "      <td>Neutered Male</td>\n",
       "      <td>...</td>\n",
       "      <td>6.0</td>\n",
       "      <td>(5.0, 7.5]</td>\n",
       "      <td>NaN</td>\n",
       "      <td>3</td>\n",
       "      <td>2014</td>\n",
       "      <td>2014-03</td>\n",
       "      <td>Saturday</td>\n",
       "      <td>17</td>\n",
       "      <td>3.0</td>\n",
       "      <td>Return to Owner</td>\n",
       "    </tr>\n",
       "    <tr>\n",
       "      <th>3</th>\n",
       "      <td>A047759</td>\n",
       "      <td>2004</td>\n",
       "      <td>4</td>\n",
       "      <td>10 years</td>\n",
       "      <td>Dog</td>\n",
       "      <td>Dachshund</td>\n",
       "      <td>Tricolor</td>\n",
       "      <td>Normal</td>\n",
       "      <td>Owner Surrender</td>\n",
       "      <td>Neutered Male</td>\n",
       "      <td>...</td>\n",
       "      <td>10.0</td>\n",
       "      <td>(7.5, 10.0]</td>\n",
       "      <td>2014-04-07 15:12:00</td>\n",
       "      <td>4</td>\n",
       "      <td>2014</td>\n",
       "      <td>2014-04</td>\n",
       "      <td>Monday</td>\n",
       "      <td>15</td>\n",
       "      <td>1.0</td>\n",
       "      <td>Missing</td>\n",
       "    </tr>\n",
       "    <tr>\n",
       "      <th>4</th>\n",
       "      <td>A134067</td>\n",
       "      <td>1997</td>\n",
       "      <td>10</td>\n",
       "      <td>16 years</td>\n",
       "      <td>Dog</td>\n",
       "      <td>Shetland Sheepdog</td>\n",
       "      <td>Brown/White</td>\n",
       "      <td>Injured</td>\n",
       "      <td>Public Assist</td>\n",
       "      <td>Neutered Male</td>\n",
       "      <td>...</td>\n",
       "      <td>16.0</td>\n",
       "      <td>(15.0, 17.5]</td>\n",
       "      <td>2013-11-16 11:54:00</td>\n",
       "      <td>11</td>\n",
       "      <td>2013</td>\n",
       "      <td>2013-11</td>\n",
       "      <td>Saturday</td>\n",
       "      <td>11</td>\n",
       "      <td>1.0</td>\n",
       "      <td>Return to Owner</td>\n",
       "    </tr>\n",
       "  </tbody>\n",
       "</table>\n",
       "<p>5 rows × 37 columns</p>\n",
       "</div>"
      ],
      "text/plain": [
       "  animal_id_outcome  dob_year  dob_month age_upon_intake animal_type  \\\n",
       "0           A006100      2007          7        10 years         Dog   \n",
       "1           A006100      2007          7         7 years         Dog   \n",
       "2           A006100      2007          7         6 years         Dog   \n",
       "3           A047759      2004          4        10 years         Dog   \n",
       "4           A134067      1997         10        16 years         Dog   \n",
       "\n",
       "                  breed         color intake_condition      intake_type  \\\n",
       "0  Spinone Italiano Mix  Yellow/White           Normal            Stray   \n",
       "1  Spinone Italiano Mix  Yellow/White           Normal    Public Assist   \n",
       "2  Spinone Italiano Mix  Yellow/White           Normal    Public Assist   \n",
       "3             Dachshund      Tricolor           Normal  Owner Surrender   \n",
       "4     Shetland Sheepdog   Brown/White          Injured    Public Assist   \n",
       "\n",
       "  sex_upon_intake  ...  age_upon_outcome_(years)  age_upon_outcome_age_group  \\\n",
       "0   Neutered Male  ...                      10.0                 (7.5, 10.0]   \n",
       "1   Neutered Male  ...                       7.0                  (5.0, 7.5]   \n",
       "2   Neutered Male  ...                       6.0                  (5.0, 7.5]   \n",
       "3   Neutered Male  ...                      10.0                 (7.5, 10.0]   \n",
       "4   Neutered Male  ...                      16.0                (15.0, 17.5]   \n",
       "\n",
       "      outcome_datetime outcome_month outcome_year  outcome_monthyear  \\\n",
       "0  2017-12-07 14:07:00            12         2017            2017-12   \n",
       "1  2014-12-20 16:35:00            12         2014            2014-12   \n",
       "2                  NaN             3         2014            2014-03   \n",
       "3  2014-04-07 15:12:00             4         2014            2014-04   \n",
       "4  2013-11-16 11:54:00            11         2013            2013-11   \n",
       "\n",
       "   outcome_weekday outcome_hour outcome_number     outcome_type  \n",
       "0         Thursday            0            1.0  Return to Owner  \n",
       "1         Saturday           16            2.0  Return to Owner  \n",
       "2         Saturday           17            3.0  Return to Owner  \n",
       "3           Monday           15            1.0          Missing  \n",
       "4         Saturday           11            1.0  Return to Owner  \n",
       "\n",
       "[5 rows x 37 columns]"
      ]
     },
     "execution_count": 300,
     "metadata": {},
     "output_type": "execute_result"
    }
   ],
   "source": [
    "df.head()"
   ]
  },
  {
   "cell_type": "code",
   "execution_count": 301,
   "metadata": {},
   "outputs": [
    {
     "data": {
      "text/plain": [
       "animal_id_outcome              object\n",
       "dob_year                        int64\n",
       "dob_month                       int64\n",
       "age_upon_intake                object\n",
       "animal_type                    object\n",
       "breed                          object\n",
       "color                          object\n",
       "intake_condition               object\n",
       "intake_type                    object\n",
       "sex_upon_intake                object\n",
       "count                           int64\n",
       "age_upon_intake_(days)          int64\n",
       "age_upon_intake_(years)       float64\n",
       "age_upon_intake_age_group      object\n",
       "intake_datetime                object\n",
       "intake_month                    int64\n",
       "intake_year                     int64\n",
       "intake_monthyear               object\n",
       "intake_weekday                 object\n",
       "intake_hour                     int64\n",
       "intake_number                 float64\n",
       "time_in_shelter                object\n",
       "time_in_shelter_days          float64\n",
       "age_upon_outcome               object\n",
       "date_of_birth                  object\n",
       "sex_upon_outcome               object\n",
       "age_upon_outcome_(days)         int64\n",
       "age_upon_outcome_(years)      float64\n",
       "age_upon_outcome_age_group     object\n",
       "outcome_datetime               object\n",
       "outcome_month                   int64\n",
       "outcome_year                    int64\n",
       "outcome_monthyear              object\n",
       "outcome_weekday                object\n",
       "outcome_hour                    int64\n",
       "outcome_number                float64\n",
       "outcome_type                   object\n",
       "dtype: object"
      ]
     },
     "execution_count": 301,
     "metadata": {},
     "output_type": "execute_result"
    }
   ],
   "source": [
    "df.isnull().sum()\n",
    "values = {'sex_upon_outcome': 'Unknown'}\n",
    "df = df.fillna(value=values)\n",
    "df.dtypes"
   ]
  },
  {
   "cell_type": "code",
   "execution_count": 302,
   "metadata": {},
   "outputs": [],
   "source": [
    "df = pd.read_csv('train.csv')\n",
    "df = df.drop(['animal_id_outcome',\n",
    "#        'dob_month',\n",
    "#        'animal_type',\n",
    "        'age_upon_intake_(days)',\n",
    "        'age_upon_intake_(years)',\n",
    "        'intake_datetime',\n",
    "        'intake_monthyear',\n",
    "        'intake_hour',\n",
    "        'sex_upon_intake',\n",
    "        'date_of_birth',\n",
    "        'age_upon_outcome',\n",
    "        'age_upon_outcome_(days)',\n",
    "        'time_in_shelter',\n",
    "        'age_upon_outcome_(years)',\n",
    "        'outcome_datetime',\n",
    "        'outcome_number',\n",
    "        'outcome_monthyear'], axis=1)"
   ]
  },
  {
   "cell_type": "code",
   "execution_count": 303,
   "metadata": {},
   "outputs": [],
   "source": [
    "encoder = LabelEncoder()\n",
    "\n",
    "df['sex_upon_outcome'] = encoder.fit_transform(df['sex_upon_outcome'].astype('str'))\n",
    "\n",
    "df['animal_type'] = encoder.fit_transform(df['animal_type'].astype('str'))\n",
    "\n",
    "df['breed'] = encoder.fit_transform(df['breed'].astype('str'))\n",
    "\n",
    "df['color'] = encoder.fit_transform(df['color'].astype('str'))\n",
    "\n",
    "df['age_upon_intake_age_group'] = encoder.fit_transform(df['intake_condition'].astype('str'))\n",
    "df['sex_upon_outcome'] = encoder.fit_transform(df['sex_upon_outcome'].astype('str'))\n",
    "df['age_upon_outcome_age_group'] = encoder.fit_transform(df['age_upon_outcome_age_group'].astype('str'))\n",
    "df['outcome_weekday'] = encoder.fit_transform(df['outcome_weekday'].astype('str'))\n",
    "\n",
    "df['outcome_type'] = encoder.fit_transform(df['outcome_type'].astype('str'))\n",
    "\n",
    "df['intake_type'] = encoder.fit_transform(df['intake_type'].astype('str'))\n",
    "\n",
    "df['intake_weekday'] = encoder.fit_transform(df['intake_weekday'].astype('str'))\n",
    "\n",
    "df['intake_condition'] = encoder.fit_transform(df['intake_condition'].astype('str'))\n",
    "\n",
    "def label_age_upon_intake(row):\n",
    "    x = row['age_upon_intake'].split(' ')\n",
    "    value = 0\n",
    "    if x=='years':\n",
    "        value = int(row['age_upon_intake'][:-6])*365\n",
    "    elif x=='weeks':\n",
    "        return int(row['age_upon_intake'][:-6])*7\n",
    "    elif x=='months':\n",
    "        return int(row['age_upon_intake'][:-7])*30\n",
    "    elif x=='days':\n",
    "        return int(row['age_upon_intake'][:-5])\n",
    "    elif x=='year':\n",
    "        return int(row['age_upon_intake'][:-5])*365\n",
    "    elif x=='day':\n",
    "        return int(row['age_upon_intake'][:-4])\n",
    "    elif x=='month':\n",
    "        return int(row['age_upon_intake'][:-6])*30\n",
    "    elif x=='week':\n",
    "        return int(row['age_upon_intake'][:-5])*7\n",
    "    return value\n",
    "    \n",
    "df['age_upon_intake']=df.apply (lambda row: label_age_upon_intake (row),axis=1)\n",
    "\n"
   ]
  },
  {
   "cell_type": "code",
   "execution_count": 304,
   "metadata": {},
   "outputs": [],
   "source": [
    "def float_to_int_intake(row):\n",
    "    return int(row['intake_number'])\n",
    "def float_to_int_outcome(row):\n",
    "    return int(row['outcome_number'])\n",
    "    \n",
    "df['intake_number']=df.apply (lambda row: float_to_int_intake (row),axis=1)\n",
    "#df['outcome_number']=df.apply (lambda row: float_to_int_outcome (row),axis=1)"
   ]
  },
  {
   "cell_type": "code",
   "execution_count": 305,
   "metadata": {},
   "outputs": [],
   "source": [
    "def time_in_shelter_days(row):\n",
    "    return int(row['time_in_shelter_days'])*365\n",
    "    \n",
    "df['time_in_shelter_days']=df.apply (lambda row: time_in_shelter_days (row),axis=1)"
   ]
  },
  {
   "cell_type": "code",
   "execution_count": 306,
   "metadata": {},
   "outputs": [],
   "source": [
    "train, test = train_test_split(df, test_size=0.2)\n",
    "\n",
    "y_train = train.outcome_type\n",
    "x_train = train.drop(['outcome_type'],axis=1)\n",
    "y_test = test.outcome_type\n",
    "x_test = test.drop(['outcome_type'],axis=1)\n",
    "\n"
   ]
  },
  {
   "cell_type": "code",
   "execution_count": 307,
   "metadata": {},
   "outputs": [
    {
     "name": "stderr",
     "output_type": "stream",
     "text": [
      "D:\\Anaconda\\lib\\site-packages\\sklearn\\linear_model\\logistic.py:432: FutureWarning: Default solver will be changed to 'lbfgs' in 0.22. Specify a solver to silence this warning.\n",
      "  FutureWarning)\n",
      "D:\\Anaconda\\lib\\site-packages\\sklearn\\linear_model\\logistic.py:469: FutureWarning: Default multi_class will be changed to 'auto' in 0.22. Specify the multi_class option to silence this warning.\n",
      "  \"this warning.\", FutureWarning)\n"
     ]
    }
   ],
   "source": [
    "lr = LogisticRegression()\n",
    "lr.fit(x_train,y_train)\n",
    "y_pred= lr.predict(x_test)\n",
    "\n"
   ]
  },
  {
   "cell_type": "code",
   "execution_count": 309,
   "metadata": {},
   "outputs": [],
   "source": [
    "rfm = RandomForestClassifier(n_estimators=70, oob_score=70, n_jobs=-1,\n",
    "                            random_state=101,max_features=None, min_samples_leaf=30)\n",
    "rfm.fit(x_train,y_train)\n",
    "y_pred=rfm.predict(x_test)\n"
   ]
  },
  {
   "cell_type": "code",
   "execution_count": 311,
   "metadata": {},
   "outputs": [],
   "source": [
    "dtree = DecisionTreeClassifier(max_depth=100, random_state=101,\n",
    "                              max_features=None, min_samples_leaf=15)\n",
    "dtree.fit(x_train,y_train)\n",
    "y_pred=dtree.predict(x_test)"
   ]
  },
  {
   "cell_type": "code",
   "execution_count": null,
   "metadata": {},
   "outputs": [],
   "source": [
    "svm = SVC(kernel=\"linear\",C=0.025,random_state=101)\n",
    "svm.fit(x_train,y_train)\n",
    "y_pred=svm.predict(x_test)"
   ]
  },
  {
   "cell_type": "code",
   "execution_count": null,
   "metadata": {},
   "outputs": [],
   "source": [
    "total = 0\n",
    "correct = 0\n",
    "\n",
    "for i in range(len(y_pred)):\n",
    "    if y_pred[i]==y_test.iloc[i]:\n",
    "        correct+=1\n",
    "    total+=1\n",
    "    \n",
    "print(correct/total)"
   ]
  },
  {
   "cell_type": "code",
   "execution_count": 250,
   "metadata": {},
   "outputs": [
    {
     "name": "stdout",
     "output_type": "stream",
     "text": [
      "0.4509988494927309\n"
     ]
    }
   ],
   "source": []
  },
  {
   "cell_type": "code",
   "execution_count": null,
   "metadata": {},
   "outputs": [],
   "source": []
  }
 ],
 "metadata": {
  "kernelspec": {
   "display_name": "Python 3",
   "language": "python",
   "name": "python3"
  },
  "language_info": {
   "codemirror_mode": {
    "name": "ipython",
    "version": 3
   },
   "file_extension": ".py",
   "mimetype": "text/x-python",
   "name": "python",
   "nbconvert_exporter": "python",
   "pygments_lexer": "ipython3",
   "version": "3.7.7"
  }
 },
 "nbformat": 4,
 "nbformat_minor": 2
}
