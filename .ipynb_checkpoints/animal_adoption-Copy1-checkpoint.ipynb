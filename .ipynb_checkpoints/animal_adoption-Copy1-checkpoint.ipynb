{
 "cells": [
  {
   "cell_type": "code",
   "execution_count": 87,
   "metadata": {},
   "outputs": [],
   "source": [
    "import pandas as pd\n",
    "from sklearn.linear_model import LogisticRegression\n",
    "from sklearn.preprocessing import LabelEncoder\n",
    "from sklearn.model_selection import train_test_split\n",
    "from sklearn.ensemble import RandomForestClassifier\n",
    "from sklearn.tree import DecisionTreeClassifier\n",
    "from sklearn.svm import SVC\n",
    "from sklearn.metrics import accuracy_score, f1_score"
   ]
  },
  {
   "cell_type": "code",
   "execution_count": 88,
   "metadata": {},
   "outputs": [],
   "source": [
    "df = pd.read_csv('train.csv')\n"
   ]
  },
  {
   "cell_type": "code",
   "execution_count": 91,
   "metadata": {},
   "outputs": [
    {
     "data": {
      "text/plain": [
       "animal_id_outcome              object\n",
       "dob_year                        int64\n",
       "dob_month                       int64\n",
       "age_upon_intake                object\n",
       "animal_type                    object\n",
       "breed                          object\n",
       "color                          object\n",
       "intake_condition               object\n",
       "intake_type                    object\n",
       "sex_upon_intake                object\n",
       "count                           int64\n",
       "age_upon_intake_(days)          int64\n",
       "age_upon_intake_(years)       float64\n",
       "age_upon_intake_age_group      object\n",
       "intake_datetime                object\n",
       "intake_month                    int64\n",
       "intake_year                     int64\n",
       "intake_monthyear               object\n",
       "intake_weekday                 object\n",
       "intake_hour                     int64\n",
       "intake_number                 float64\n",
       "time_in_shelter                object\n",
       "time_in_shelter_days          float64\n",
       "age_upon_outcome               object\n",
       "date_of_birth                  object\n",
       "sex_upon_outcome               object\n",
       "age_upon_outcome_(days)         int64\n",
       "age_upon_outcome_(years)      float64\n",
       "age_upon_outcome_age_group     object\n",
       "outcome_datetime               object\n",
       "outcome_month                   int64\n",
       "outcome_year                    int64\n",
       "outcome_monthyear              object\n",
       "outcome_weekday                object\n",
       "outcome_hour                    int64\n",
       "outcome_number                float64\n",
       "outcome_type                   object\n",
       "dtype: object"
      ]
     },
     "execution_count": 91,
     "metadata": {},
     "output_type": "execute_result"
    }
   ],
   "source": [
    "df.isnull().sum()\n",
    "values = {'sex_upon_outcome': 'Unknown'}\n",
    "df = df.fillna(value=values)\n"
   ]
  },
  {
   "cell_type": "code",
   "execution_count": 92,
   "metadata": {},
   "outputs": [],
   "source": [
    "df = pd.read_csv('train.csv')\n",
    "df = df.drop(['animal_id_outcome',\n",
    "#        'dob_month',\n",
    "#       'dob_year',\n",
    "#        'animal_type',\n",
    "        'age_upon_intake_(days)',\n",
    "        'age_upon_intake_(years)',\n",
    "        'intake_datetime',\n",
    "        'intake_monthyear',\n",
    "        'count',\n",
    "        'intake_hour',\n",
    "        'sex_upon_intake',\n",
    "        'date_of_birth',\n",
    "        'age_upon_outcome',\n",
    "        'age_upon_outcome_(days)',\n",
    "        'time_in_shelter',\n",
    "        'age_upon_outcome_(years)',\n",
    "        'outcome_datetime',\n",
    "        'outcome_number',\n",
    "        'outcome_monthyear'], axis=1)"
   ]
  },
  {
   "cell_type": "code",
   "execution_count": 93,
   "metadata": {},
   "outputs": [],
   "source": [
    "encoder = LabelEncoder()\n",
    "\n",
    "#df['sex_upon_intake'] = encoder.fit_transform(df['sex_upon_intake'].astype('str'))\n",
    "\n",
    "df['sex_upon_outcome'] = encoder.fit_transform(df['sex_upon_outcome'].astype('str'))\n",
    "\n",
    "df['animal_type'] = encoder.fit_transform(df['animal_type'].astype('str'))\n",
    "\n",
    "df['breed'] = encoder.fit_transform(df['breed'].astype('str'))\n",
    "\n",
    "df['color'] = encoder.fit_transform(df['color'].astype('str'))\n",
    "\n",
    "df['age_upon_intake_age_group'] = encoder.fit_transform(df['intake_condition'].astype('str'))\n",
    "df['sex_upon_outcome'] = encoder.fit_transform(df['sex_upon_outcome'].astype('str'))\n",
    "df['age_upon_outcome_age_group'] = encoder.fit_transform(df['age_upon_outcome_age_group'].astype('str'))\n",
    "df['outcome_weekday'] = encoder.fit_transform(df['outcome_weekday'].astype('str'))\n",
    "\n",
    "df['outcome_type'] = encoder.fit_transform(df['outcome_type'].astype('str'))\n",
    "\n",
    "df['intake_type'] = encoder.fit_transform(df['intake_type'].astype('str'))\n",
    "\n",
    "df['intake_weekday'] = encoder.fit_transform(df['intake_weekday'].astype('str'))\n",
    "\n",
    "df['intake_condition'] = encoder.fit_transform(df['intake_condition'].astype('str'))\n",
    "\n",
    "def label_age_upon_intake(row):\n",
    "    x = row['age_upon_intake'].split(' ')\n",
    "    value = 0\n",
    "    if x=='years':\n",
    "        value = int(row['age_upon_intake'][:-6])*365\n",
    "    elif x=='weeks':\n",
    "        return int(row['age_upon_intake'][:-6])*7\n",
    "    elif x=='months':\n",
    "        return int(row['age_upon_intake'][:-7])*30\n",
    "    elif x=='days':\n",
    "        return int(row['age_upon_intake'][:-5])\n",
    "    elif x=='year':\n",
    "        return int(row['age_upon_intake'][:-5])*365\n",
    "    elif x=='day':\n",
    "        return int(row['age_upon_intake'][:-4])\n",
    "    elif x=='month':\n",
    "        return int(row['age_upon_intake'][:-6])*30\n",
    "    elif x=='week':\n",
    "        return int(row['age_upon_intake'][:-5])*7\n",
    "    return value\n",
    "    \n",
    "df['age_upon_intake']=df.apply (lambda row: label_age_upon_intake (row),axis=1)\n",
    "\n"
   ]
  },
  {
   "cell_type": "code",
   "execution_count": 94,
   "metadata": {},
   "outputs": [],
   "source": [
    "def float_to_int_intake(row):\n",
    "    return int(row['intake_number'])\n",
    "def float_to_int_outcome(row):\n",
    "    return int(row['outcome_number'])\n",
    "    \n",
    "df['intake_number']=df.apply (lambda row: float_to_int_intake (row),axis=1)\n",
    "#df['outcome_number']=df.apply (lambda row: float_to_int_outcome (row),axis=1)"
   ]
  },
  {
   "cell_type": "code",
   "execution_count": 95,
   "metadata": {},
   "outputs": [],
   "source": [
    "def time_in_shelter_days(row):\n",
    "    return int(row['time_in_shelter_days'])*365\n",
    "    \n",
    "df['time_in_shelter_days']=df.apply (lambda row: time_in_shelter_days (row),axis=1)"
   ]
  },
  {
   "cell_type": "code",
   "execution_count": 96,
   "metadata": {},
   "outputs": [],
   "source": [
    "train, test = train_test_split(df, test_size=0.2)\n",
    "\n",
    "y_train = train.outcome_type\n",
    "x_train = train.drop(['outcome_type'],axis=1)\n",
    "y_test = test.outcome_type\n",
    "x_test = test.drop(['outcome_type'],axis=1)"
   ]
  },
  {
   "cell_type": "code",
   "execution_count": 97,
   "metadata": {},
   "outputs": [
    {
     "name": "stderr",
     "output_type": "stream",
     "text": [
      "D:\\Anaconda\\lib\\site-packages\\sklearn\\linear_model\\logistic.py:432: FutureWarning: Default solver will be changed to 'lbfgs' in 0.22. Specify a solver to silence this warning.\n",
      "  FutureWarning)\n",
      "D:\\Anaconda\\lib\\site-packages\\sklearn\\linear_model\\logistic.py:469: FutureWarning: Default multi_class will be changed to 'auto' in 0.22. Specify the multi_class option to silence this warning.\n",
      "  \"this warning.\", FutureWarning)\n"
     ]
    }
   ],
   "source": [
    "lr = LogisticRegression()\n",
    "lr.fit(x_train,y_train)\n",
    "y_pred= lr.predict(x_test)"
   ]
  },
  {
   "cell_type": "code",
   "execution_count": 98,
   "metadata": {},
   "outputs": [],
   "source": [
    "rfm = RandomForestClassifier(n_estimators=70, oob_score=70, n_jobs=-1,\n",
    "                            random_state=101,max_features=None, min_samples_leaf=30)\n",
    "rfm.fit(x_train,y_train)\n",
    "y_pred=rfm.predict(x_test)"
   ]
  },
  {
   "cell_type": "code",
   "execution_count": 55,
   "metadata": {},
   "outputs": [],
   "source": [
    "dtree = DecisionTreeClassifier(max_depth=100, random_state=101,\n",
    "                              max_features=None, min_samples_leaf=15)\n",
    "dtree.fit(x_train,y_train)\n",
    "y_pred=dtree.predict(x_test)"
   ]
  },
  {
   "cell_type": "code",
   "execution_count": null,
   "metadata": {},
   "outputs": [],
   "source": [
    "#Run at your own risk xD\n",
    "svm = SVC(kernel=\"linear\",C=0.025,random_state=101)\n",
    "svm.fit(x_train,y_train)\n",
    "y_pred=svm.predict(x_test)"
   ]
  },
  {
   "cell_type": "code",
   "execution_count": 99,
   "metadata": {},
   "outputs": [
    {
     "name": "stdout",
     "output_type": "stream",
     "text": [
      "0.6116515008890283\n",
      "0.3493319850615015\n"
     ]
    },
    {
     "name": "stderr",
     "output_type": "stream",
     "text": [
      "D:\\Anaconda\\lib\\site-packages\\sklearn\\metrics\\classification.py:1437: UndefinedMetricWarning: F-score is ill-defined and being set to 0.0 in labels with no predicted samples.\n",
      "  'precision', 'predicted', average, warn_for)\n"
     ]
    }
   ],
   "source": [
    "total = 0\n",
    "correct = 0\n",
    "\n",
    "for i in range(len(y_pred)):\n",
    "    if y_pred[i]==y_test.iloc[i]:\n",
    "        correct+=1\n",
    "    total+=1\n",
    "    \n",
    "print(correct/total)\n",
    "print(f1_score(y_test, y_pred, average=\"macro\"))"
   ]
  },
  {
   "cell_type": "code",
   "execution_count": 250,
   "metadata": {},
   "outputs": [
    {
     "name": "stdout",
     "output_type": "stream",
     "text": [
      "0.4509988494927309\n"
     ]
    }
   ],
   "source": []
  },
  {
   "cell_type": "code",
   "execution_count": null,
   "metadata": {},
   "outputs": [],
   "source": []
  }
 ],
 "metadata": {
  "kernelspec": {
   "display_name": "Python 3",
   "language": "python",
   "name": "python3"
  },
  "language_info": {
   "codemirror_mode": {
    "name": "ipython",
    "version": 3
   },
   "file_extension": ".py",
   "mimetype": "text/x-python",
   "name": "python",
   "nbconvert_exporter": "python",
   "pygments_lexer": "ipython3",
   "version": "3.7.3"
  }
 },
 "nbformat": 4,
 "nbformat_minor": 2
}
